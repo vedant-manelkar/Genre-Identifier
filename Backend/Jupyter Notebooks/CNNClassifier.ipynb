{
 "cells": [
  {
   "cell_type": "code",
   "execution_count": null,
   "metadata": {},
   "outputs": [],
   "source": []
  },
  {
   "cell_type": "code",
   "execution_count": 12,
   "metadata": {},
   "outputs": [],
   "source": [
    "import warnings\n",
    "warnings.simplefilter(action='ignore', category=FutureWarning)\n",
    "\n",
    "import json\n",
    "import numpy as np\n",
    "from sklearn.model_selection import train_test_split\n",
    "import tensorflow.keras as keras\n",
    "import matplotlib.pyplot as plt"
   ]
  },
  {
   "cell_type": "code",
   "execution_count": 2,
   "metadata": {},
   "outputs": [],
   "source": [
    "DATA_PATH = \"data.json\"\n",
    "\n",
    "\n",
    "def load_data(data_path):\n",
    "    \"\"\"Loads training dataset from json file.\n",
    "\n",
    "        :param data_path (str): Path to json file containing data\n",
    "        :return X (ndarray): Inputs\n",
    "        :return y (ndarray): Targets\n",
    "    \"\"\"\n",
    "\n",
    "    with open(data_path, \"r\") as fp:\n",
    "        data = json.load(fp)\n",
    "\n",
    "    X = np.array(data[\"mfcc\"])\n",
    "    y = np.array(data[\"labels\"])\n",
    "    return X, y"
   ]
  },
  {
   "cell_type": "code",
   "execution_count": 5,
   "metadata": {},
   "outputs": [],
   "source": [
    "def plot_history(history):\n",
    "    \"\"\"Plots accuracy/loss for training/validation set as a function of the epochs\n",
    "\n",
    "        :param history: Training history of model\n",
    "        :return:\n",
    "    \"\"\"\n",
    "\n",
    "    fig, axs = plt.subplots(2)\n",
    "\n",
    "    # create accuracy sublpot\n",
    "    axs[0].plot(history.history[\"acc\"], label=\"train accuracy\")\n",
    "    axs[0].plot(history.history[\"val_acc\"], label=\"test accuracy\")\n",
    "    axs[0].set_ylabel(\"Accuracy\")\n",
    "    axs[0].legend(loc=\"lower right\")\n",
    "    axs[0].set_title(\"Accuracy eval\")\n",
    "\n",
    "    # create error sublpot\n",
    "    axs[1].plot(history.history[\"loss\"], label=\"train error\")\n",
    "    axs[1].plot(history.history[\"val_loss\"], label=\"test error\")\n",
    "    axs[1].set_ylabel(\"Error\")\n",
    "    axs[1].set_xlabel(\"Epoch\")\n",
    "    axs[1].legend(loc=\"upper right\")\n",
    "    axs[1].set_title(\"Error eval\")\n",
    "\n",
    "    plt.show()"
   ]
  },
  {
   "cell_type": "code",
   "execution_count": 6,
   "metadata": {},
   "outputs": [],
   "source": [
    "def prepare_datasets(test_size, validation_size):\n",
    "    \"\"\"Loads data and splits it into train, validation and test sets.\n",
    "\n",
    "    :param test_size (float): Value in [0, 1] indicating percentage of data set to allocate to test split\n",
    "    :param validation_size (float): Value in [0, 1] indicating percentage of train set to allocate to validation split\n",
    "\n",
    "    :return X_train (ndarray): Input training set\n",
    "    :return X_validation (ndarray): Input validation set\n",
    "    :return X_test (ndarray): Input test set\n",
    "    :return y_train (ndarray): Target training set\n",
    "    :return y_validation (ndarray): Target validation set\n",
    "    :return y_test (ndarray): Target test set\n",
    "    \"\"\"\n",
    "\n",
    "    # load data\n",
    "    X, y = load_data(DATA_PATH)\n",
    "\n",
    "    # create train, validation and test split\n",
    "    X_train, X_test, y_train, y_test = train_test_split(X, y, test_size=test_size)\n",
    "    X_train, X_validation, y_train, y_validation = train_test_split(X_train, y_train, test_size=validation_size)\n",
    "\n",
    "    # add an axis to input sets\n",
    "    X_train = X_train[..., np.newaxis]\n",
    "    X_validation = X_validation[..., np.newaxis]\n",
    "    X_test = X_test[..., np.newaxis]\n",
    "\n",
    "    return X_train, X_validation, X_test, y_train, y_validation, y_test"
   ]
  },
  {
   "cell_type": "code",
   "execution_count": 7,
   "metadata": {},
   "outputs": [],
   "source": [
    "def build_model(input_shape):\n",
    "    \"\"\"Generates CNN model\n",
    "\n",
    "    :param input_shape (tuple): Shape of input set\n",
    "    :return model: CNN model\n",
    "    \"\"\"\n",
    "\n",
    "    # build network topology\n",
    "    model = keras.Sequential()\n",
    "\n",
    "    # 1st conv layer\n",
    "    model.add(keras.layers.Conv2D(32, (3, 3), activation='relu', input_shape=input_shape))\n",
    "    model.add(keras.layers.MaxPooling2D((3, 3), strides=(2, 2), padding='same'))\n",
    "    model.add(keras.layers.BatchNormalization())\n",
    "\n",
    "    # 2nd conv layer\n",
    "    model.add(keras.layers.Conv2D(32, (3, 3), activation='relu'))\n",
    "    model.add(keras.layers.MaxPooling2D((3, 3), strides=(2, 2), padding='same'))\n",
    "    model.add(keras.layers.BatchNormalization())\n",
    "\n",
    "    # 3rd conv layer\n",
    "    model.add(keras.layers.Conv2D(32, (2, 2), activation='relu'))\n",
    "    model.add(keras.layers.MaxPooling2D((2, 2), strides=(2, 2), padding='same'))\n",
    "    model.add(keras.layers.BatchNormalization())\n",
    "\n",
    "    # flatten output and feed it into dense layer\n",
    "    model.add(keras.layers.Flatten())\n",
    "    model.add(keras.layers.Dense(64, activation='relu'))\n",
    "    model.add(keras.layers.Dropout(0.3))\n",
    "\n",
    "    # output layer\n",
    "    model.add(keras.layers.Dense(10, activation='softmax'))\n",
    "\n",
    "    return model\n"
   ]
  },
  {
   "cell_type": "code",
   "execution_count": 8,
   "metadata": {},
   "outputs": [],
   "source": [
    "def predict(model, X, y):\n",
    "    \"\"\"Predict a single sample using the trained model\n",
    "\n",
    "    :param model: Trained classifier\n",
    "    :param X: Input data\n",
    "    :param y (int): Target\n",
    "    \"\"\"\n",
    "\n",
    "    # add a dimension to input data for sample - model.predict() expects a 4d array in this case\n",
    "    X = X[np.newaxis, ...] # array shape (1, 130, 13, 1)\n",
    "\n",
    "    # perform prediction\n",
    "    prediction = model.predict(X)\n",
    "\n",
    "    # get index with max value\n",
    "    predicted_index = np.argmax(prediction, axis=1)\n",
    "\n",
    "    print(\"Target: {}, Predicted label: {}\".format(y, predicted_index))\n"
   ]
  },
  {
   "cell_type": "code",
   "execution_count": 9,
   "metadata": {},
   "outputs": [
    {
     "name": "stdout",
     "output_type": "stream",
     "text": [
      "WARNING:tensorflow:From C:\\Users\\VKJ\\anaconda3\\lib\\site-packages\\tensorflow\\python\\ops\\init_ops.py:1251: calling VarianceScaling.__init__ (from tensorflow.python.ops.init_ops) with dtype is deprecated and will be removed in a future version.\n",
      "Instructions for updating:\n",
      "Call initializer instance with the dtype argument instead of passing it to the constructor\n",
      "Model: \"sequential\"\n",
      "_________________________________________________________________\n",
      "Layer (type)                 Output Shape              Param #   \n",
      "=================================================================\n",
      "conv2d (Conv2D)              (None, 128, 11, 32)       320       \n",
      "_________________________________________________________________\n",
      "max_pooling2d (MaxPooling2D) (None, 64, 6, 32)         0         \n",
      "_________________________________________________________________\n",
      "batch_normalization (BatchNo (None, 64, 6, 32)         128       \n",
      "_________________________________________________________________\n",
      "conv2d_1 (Conv2D)            (None, 62, 4, 32)         9248      \n",
      "_________________________________________________________________\n",
      "max_pooling2d_1 (MaxPooling2 (None, 31, 2, 32)         0         \n",
      "_________________________________________________________________\n",
      "batch_normalization_1 (Batch (None, 31, 2, 32)         128       \n",
      "_________________________________________________________________\n",
      "conv2d_2 (Conv2D)            (None, 30, 1, 32)         4128      \n",
      "_________________________________________________________________\n",
      "max_pooling2d_2 (MaxPooling2 (None, 15, 1, 32)         0         \n",
      "_________________________________________________________________\n",
      "batch_normalization_2 (Batch (None, 15, 1, 32)         128       \n",
      "_________________________________________________________________\n",
      "flatten (Flatten)            (None, 480)               0         \n",
      "_________________________________________________________________\n",
      "dense (Dense)                (None, 64)                30784     \n",
      "_________________________________________________________________\n",
      "dropout (Dropout)            (None, 64)                0         \n",
      "_________________________________________________________________\n",
      "dense_1 (Dense)              (None, 10)                650       \n",
      "=================================================================\n",
      "Total params: 45,514\n",
      "Trainable params: 45,322\n",
      "Non-trainable params: 192\n",
      "_________________________________________________________________\n",
      "Train on 5997 samples, validate on 1500 samples\n",
      "Epoch 1/30\n",
      "5997/5997 [==============================] - 14s 2ms/sample - loss: 2.3238 - acc: 0.2355 - val_loss: 1.7400 - val_acc: 0.3533\n",
      "Epoch 2/30\n",
      "5997/5997 [==============================] - 12s 2ms/sample - loss: 1.7788 - acc: 0.3660 - val_loss: 1.4697 - val_acc: 0.4540\n",
      "Epoch 3/30\n",
      "5997/5997 [==============================] - 12s 2ms/sample - loss: 1.6049 - acc: 0.4190 - val_loss: 1.3825 - val_acc: 0.4947\n",
      "Epoch 4/30\n",
      "5997/5997 [==============================] - 12s 2ms/sample - loss: 1.5109 - acc: 0.4544 - val_loss: 1.3353 - val_acc: 0.5120\n",
      "Epoch 5/30\n",
      "5997/5997 [==============================] - 12s 2ms/sample - loss: 1.4193 - acc: 0.4842 - val_loss: 1.2793 - val_acc: 0.5420\n",
      "Epoch 6/30\n",
      "5997/5997 [==============================] - 12s 2ms/sample - loss: 1.3694 - acc: 0.5001 - val_loss: 1.2457 - val_acc: 0.5513\n",
      "Epoch 7/30\n",
      "5997/5997 [==============================] - 12s 2ms/sample - loss: 1.3091 - acc: 0.5244 - val_loss: 1.1994 - val_acc: 0.5647\n",
      "Epoch 8/30\n",
      "5997/5997 [==============================] - 12s 2ms/sample - loss: 1.2625 - acc: 0.5506 - val_loss: 1.1654 - val_acc: 0.5747\n",
      "Epoch 9/30\n",
      "5997/5997 [==============================] - 12s 2ms/sample - loss: 1.2197 - acc: 0.5618 - val_loss: 1.1551 - val_acc: 0.5733\n",
      "Epoch 10/30\n",
      "5997/5997 [==============================] - 12s 2ms/sample - loss: 1.1765 - acc: 0.5790 - val_loss: 1.1141 - val_acc: 0.5980\n",
      "Epoch 11/30\n",
      "5997/5997 [==============================] - 12s 2ms/sample - loss: 1.1362 - acc: 0.5948 - val_loss: 1.1021 - val_acc: 0.5913\n",
      "Epoch 12/30\n",
      "5997/5997 [==============================] - 12s 2ms/sample - loss: 1.0955 - acc: 0.6091 - val_loss: 1.0541 - val_acc: 0.6180\n",
      "Epoch 13/30\n",
      "5997/5997 [==============================] - 13s 2ms/sample - loss: 1.0598 - acc: 0.6218 - val_loss: 1.0321 - val_acc: 0.6280\n",
      "Epoch 14/30\n",
      "5997/5997 [==============================] - 14s 2ms/sample - loss: 1.0240 - acc: 0.6268 - val_loss: 1.0138 - val_acc: 0.6287\n",
      "Epoch 15/30\n",
      "5997/5997 [==============================] - 12s 2ms/sample - loss: 1.0015 - acc: 0.6420 - val_loss: 1.0392 - val_acc: 0.6320\n",
      "Epoch 16/30\n",
      "5997/5997 [==============================] - 11s 2ms/sample - loss: 0.9870 - acc: 0.6512 - val_loss: 0.9825 - val_acc: 0.6473\n",
      "Epoch 17/30\n",
      "5997/5997 [==============================] - 12s 2ms/sample - loss: 0.9489 - acc: 0.6590 - val_loss: 0.9684 - val_acc: 0.6613\n",
      "Epoch 18/30\n",
      "5997/5997 [==============================] - 12s 2ms/sample - loss: 0.9234 - acc: 0.6745 - val_loss: 0.9657 - val_acc: 0.6620\n",
      "Epoch 19/30\n",
      "5997/5997 [==============================] - 13s 2ms/sample - loss: 0.9029 - acc: 0.6847 - val_loss: 0.9564 - val_acc: 0.6620\n",
      "Epoch 20/30\n",
      "5997/5997 [==============================] - 13s 2ms/sample - loss: 0.8935 - acc: 0.6787 - val_loss: 0.9243 - val_acc: 0.6747\n",
      "Epoch 21/30\n",
      "5997/5997 [==============================] - 14s 2ms/sample - loss: 0.8564 - acc: 0.6953 - val_loss: 0.9164 - val_acc: 0.6740\n",
      "Epoch 22/30\n",
      "5997/5997 [==============================] - 13s 2ms/sample - loss: 0.8399 - acc: 0.7002 - val_loss: 0.9477 - val_acc: 0.6740\n",
      "Epoch 23/30\n",
      "5997/5997 [==============================] - 13s 2ms/sample - loss: 0.8313 - acc: 0.7079 - val_loss: 0.8754 - val_acc: 0.6907\n",
      "Epoch 24/30\n",
      "5997/5997 [==============================] - 12s 2ms/sample - loss: 0.8015 - acc: 0.7214 - val_loss: 0.9409 - val_acc: 0.6687\n",
      "Epoch 25/30\n",
      "5997/5997 [==============================] - 12s 2ms/sample - loss: 0.7805 - acc: 0.7280 - val_loss: 0.8907 - val_acc: 0.6860\n",
      "Epoch 26/30\n",
      "5997/5997 [==============================] - 12s 2ms/sample - loss: 0.7800 - acc: 0.7305 - val_loss: 0.8557 - val_acc: 0.6947\n",
      "Epoch 27/30\n",
      "5997/5997 [==============================] - 12s 2ms/sample - loss: 0.7673 - acc: 0.7289 - val_loss: 0.8781 - val_acc: 0.6893\n",
      "Epoch 28/30\n",
      "5997/5997 [==============================] - 12s 2ms/sample - loss: 0.7371 - acc: 0.7442 - val_loss: 0.8601 - val_acc: 0.7013\n",
      "Epoch 29/30\n",
      "5997/5997 [==============================] - 12s 2ms/sample - loss: 0.7270 - acc: 0.7444 - val_loss: 0.8560 - val_acc: 0.7073\n",
      "Epoch 30/30\n",
      "5997/5997 [==============================] - 12s 2ms/sample - loss: 0.7263 - acc: 0.7470 - val_loss: 0.8274 - val_acc: 0.7033\n"
     ]
    },
    {
     "data": {
      "image/png": "[encoded data removed]",
      "text/plain": [
       "<Figure size 432x288 with 2 Axes>"
      ]
     },
     "metadata": {
      "needs_background": "light"
     },
     "output_type": "display_data"
    },
    {
     "name": "stdout",
     "output_type": "stream",
     "text": [
      "2499/2499 - 1s - loss: 0.7751 - acc: 0.7351\n",
      "\n",
      "Test accuracy: 0.735094\n",
      "Target: 9, Predicted label: [5]\n"
     ]
    }
   ],
   "source": [
    "if __name__ == \"__main__\":\n",
    "\n",
    "    # get train, validation, test splits\n",
    "    X_train, X_validation, X_test, y_train, y_validation, y_test = prepare_datasets(0.25, 0.2)\n",
    "\n",
    "    # create network\n",
    "    input_shape = (X_train.shape[1], X_train.shape[2], 1)\n",
    "    model = build_model(input_shape)\n",
    "\n",
    "    # compile model\n",
    "    optimiser = keras.optimizers.Adam(learning_rate=0.0001)\n",
    "    model.compile(optimizer=optimiser,\n",
    "                  loss='sparse_categorical_crossentropy',\n",
    "                  metrics=['acc'])\n",
    "\n",
    "    model.summary()\n",
    "\n",
    "    # train model\n",
    "    history = model.fit(X_train, y_train, validation_data=(X_validation, y_validation), batch_size=32, epochs=30)\n",
    "\n",
    "    # plot accuracy/error for training and validation\n",
    "    plot_history(history)\n",
    "\n",
    "    # evaluate model on test set\n",
    "    test_loss, test_acc = model.evaluate(X_test, y_test, verbose=2)\n",
    "    print('\\nTest accuracy:', test_acc)\n",
    "\n",
    "    # pick a sample to predict from the test set\n",
    "    X_to_predict = X_test[100]\n",
    "    y_to_predict = y_test[100]\n",
    "\n",
    "    # predict sample\n",
    "    predict(model, X_to_predict, y_to_predict)\n"
   ]
  },
  {
   "cell_type": "code",
   "execution_count": 10,
   "metadata": {},
   "outputs": [
    {
     "data": {
      "image/png": "[encoded data removed]",
      "text/plain": [
       "<Figure size 432x288 with 2 Axes>"
      ]
     },
     "metadata": {
      "needs_background": "light"
     },
     "output_type": "display_data"
    }
   ],
   "source": [
    "# plot accuracy/error for training and validation\n",
    "plot_history(history)"
   ]
  },
  {
   "cell_type": "code",
   "execution_count": 11,
   "metadata": {},
   "outputs": [
    {
     "name": "stdout",
     "output_type": "stream",
     "text": [
      "2499/2499 - 1s - loss: 0.7751 - acc: 0.7351\n",
      "\n",
      "Test accuracy: 0.735094\n"
     ]
    }
   ],
   "source": [
    "# evaluate model on test set\n",
    "test_loss, test_acc = model.evaluate(X_test, y_test, verbose=2)\n",
    "print('\\nTest accuracy:', test_acc)"
   ]
  },
  {
   "cell_type": "code",
   "execution_count": null,
   "metadata": {},
   "outputs": [],
   "source": []
  }
 ],
 "metadata": {
  "kernelspec": {
   "display_name": "Python 3",
   "language": "python",
   "name": "python3"
  },
  "language_info": {
   "codemirror_mode": {
    "name": "ipython",
    "version": 3
   },
   "file_extension": ".py",
   "mimetype": "text/x-python",
   "name": "python",
   "nbconvert_exporter": "python",
   "pygments_lexer": "ipython3",
   "version": "3.7.6"
  }
 },
 "nbformat": 4,
 "nbformat_minor": 4
}
