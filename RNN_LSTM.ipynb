{
 "cells": [
  {
   "cell_type": "code",
   "execution_count": null,
   "metadata": {},
   "outputs": [],
   "source": []
  },
  {
   "cell_type": "code",
   "execution_count": 1,
   "metadata": {},
   "outputs": [],
   "source": [
    "import warnings\n",
    "warnings.simplefilter(action='ignore', category=FutureWarning)\n",
    "\n",
    "import json\n",
    "import numpy as np\n",
    "from sklearn.model_selection import train_test_split\n",
    "import tensorflow.keras as keras\n",
    "import matplotlib.pyplot as plt"
   ]
  },
  {
   "cell_type": "code",
   "execution_count": 2,
   "metadata": {},
   "outputs": [],
   "source": [
    "DATA_PATH = \"data.json\"\n",
    "\n",
    "def load_data(data_path):\n",
    "    \"\"\"Loads training dataset from json file.\n",
    "\n",
    "        :param data_path (str): Path to json file containing data\n",
    "        :return X (ndarray): Inputs\n",
    "        :return y (ndarray): Targets\n",
    "    \"\"\"\n",
    "\n",
    "    with open(data_path, \"r\") as fp:\n",
    "        data = json.load(fp)\n",
    "\n",
    "    X = np.array(data[\"mfcc\"])\n",
    "    y = np.array(data[\"labels\"])\n",
    "    return X, y"
   ]
  },
  {
   "cell_type": "code",
   "execution_count": 3,
   "metadata": {},
   "outputs": [],
   "source": [
    "def plot_history(history):\n",
    "    \"\"\"Plots accuracy/loss for training/validation set as a function of the epochs\n",
    "\n",
    "        :param history: Training history of model\n",
    "        :return:\n",
    "    \"\"\"\n",
    "\n",
    "    fig, axs = plt.subplots(2)\n",
    "\n",
    "    # create accuracy sublpot\n",
    "    axs[0].plot(history.history[\"acc\"], label=\"train accuracy\")\n",
    "    axs[0].plot(history.history[\"val_acc\"], label=\"test accuracy\")\n",
    "    axs[0].set_ylabel(\"Accuracy\")\n",
    "    axs[0].legend(loc=\"lower right\")\n",
    "    axs[0].set_title(\"Accuracy eval\")\n",
    "\n",
    "    # create error sublpot\n",
    "    axs[1].plot(history.history[\"loss\"], label=\"train error\")\n",
    "    axs[1].plot(history.history[\"val_loss\"], label=\"test error\")\n",
    "    axs[1].set_ylabel(\"Error\")\n",
    "    axs[1].set_xlabel(\"Epoch\")\n",
    "    axs[1].legend(loc=\"upper right\")\n",
    "    axs[1].set_title(\"Error eval\")\n",
    "\n",
    "    plt.show()"
   ]
  },
  {
   "cell_type": "code",
   "execution_count": 4,
   "metadata": {},
   "outputs": [],
   "source": [
    "def prepare_datasets(test_size, validation_size):\n",
    "    \"\"\"Loads data and splits it into train, validation and test sets.\n",
    "\n",
    "    :param test_size (float): Value in [0, 1] indicating percentage of data set to allocate to test split\n",
    "    :param validation_size (float): Value in [0, 1] indicating percentage of train set to allocate to validation split\n",
    "\n",
    "    :return X_train (ndarray): Input training set\n",
    "    :return X_validation (ndarray): Input validation set\n",
    "    :return X_test (ndarray): Input test set\n",
    "    :return y_train (ndarray): Target training set\n",
    "    :return y_validation (ndarray): Target validation set\n",
    "    :return y_test (ndarray): Target test set\n",
    "    \"\"\"\n",
    "\n",
    "    # load data\n",
    "    X, y = load_data(DATA_PATH)\n",
    "\n",
    "    # create train, validation and test split\n",
    "    X_train, X_test, y_train, y_test = train_test_split(X, y, test_size=test_size)\n",
    "    X_train, X_validation, y_train, y_validation = train_test_split(X_train, y_train, test_size=validation_size)\n",
    "\n",
    "    return X_train, X_validation, X_test, y_train, y_validation, y_test"
   ]
  },
  {
   "cell_type": "code",
   "execution_count": 5,
   "metadata": {},
   "outputs": [],
   "source": [
    "def build_model(input_shape):\n",
    "    \"\"\"Generates RNN-LSTM model\n",
    "\n",
    "    :param input_shape (tuple): Shape of input set\n",
    "    :return model: RNN-LSTM model\n",
    "    \"\"\"\n",
    "\n",
    "    # build network topology\n",
    "    model = keras.Sequential()\n",
    "\n",
    "    # 2 LSTM layers\n",
    "    model.add(keras.layers.LSTM(64, input_shape=input_shape, return_sequences=True))\n",
    "    model.add(keras.layers.LSTM(64))\n",
    "\n",
    "    # dense layer\n",
    "    model.add(keras.layers.Dense(64, activation='relu'))\n",
    "    model.add(keras.layers.Dropout(0.3))\n",
    "\n",
    "    # output layer\n",
    "    model.add(keras.layers.Dense(10, activation='softmax'))\n",
    "\n",
    "    return model"
   ]
  },
  {
   "cell_type": "code",
   "execution_count": 6,
   "metadata": {},
   "outputs": [
    {
     "name": "stdout",
     "output_type": "stream",
     "text": [
      "WARNING:tensorflow:From C:\\Users\\VKJ\\anaconda3\\lib\\site-packages\\tensorflow\\python\\ops\\init_ops.py:1251: calling VarianceScaling.__init__ (from tensorflow.python.ops.init_ops) with dtype is deprecated and will be removed in a future version.\n",
      "Instructions for updating:\n",
      "Call initializer instance with the dtype argument instead of passing it to the constructor\n",
      "Model: \"sequential\"\n",
      "_________________________________________________________________\n",
      "Layer (type)                 Output Shape              Param #   \n",
      "=================================================================\n",
      "lstm (LSTM)                  (None, 130, 64)           19968     \n",
      "_________________________________________________________________\n",
      "lstm_1 (LSTM)                (None, 64)                33024     \n",
      "_________________________________________________________________\n",
      "dense (Dense)                (None, 64)                4160      \n",
      "_________________________________________________________________\n",
      "dropout (Dropout)            (None, 64)                0         \n",
      "_________________________________________________________________\n",
      "dense_1 (Dense)              (None, 10)                650       \n",
      "=================================================================\n",
      "Total params: 57,802\n",
      "Trainable params: 57,802\n",
      "Non-trainable params: 0\n",
      "_________________________________________________________________\n",
      "Train on 5997 samples, validate on 1500 samples\n",
      "WARNING:tensorflow:From C:\\Users\\VKJ\\anaconda3\\lib\\site-packages\\tensorflow\\python\\ops\\math_grad.py:1250: add_dispatch_support.<locals>.wrapper (from tensorflow.python.ops.array_ops) is deprecated and will be removed in a future version.\n",
      "Instructions for updating:\n",
      "Use tf.where in 2.0, which has the same broadcast rule as np.where\n",
      "Epoch 1/30\n",
      "5997/5997 [==============================] - 29s 5ms/sample - loss: 2.2219 - acc: 0.2111 - val_loss: 2.1142 - val_acc: 0.2887\n",
      "Epoch 2/30\n",
      "5997/5997 [==============================] - 27s 5ms/sample - loss: 1.9954 - acc: 0.3088 - val_loss: 1.8838 - val_acc: 0.3267\n",
      "Epoch 3/30\n",
      "5997/5997 [==============================] - 30s 5ms/sample - loss: 1.7910 - acc: 0.3687 - val_loss: 1.7110 - val_acc: 0.3673\n",
      "Epoch 4/30\n",
      "5997/5997 [==============================] - 27s 5ms/sample - loss: 1.6529 - acc: 0.4145 - val_loss: 1.6013 - val_acc: 0.4327\n",
      "Epoch 5/30\n",
      "5997/5997 [==============================] - 27s 4ms/sample - loss: 1.5326 - acc: 0.4531 - val_loss: 1.5232 - val_acc: 0.4693\n",
      "Epoch 6/30\n",
      "5997/5997 [==============================] - 26s 4ms/sample - loss: 1.4705 - acc: 0.4757 - val_loss: 1.4844 - val_acc: 0.4740\n",
      "Epoch 7/30\n",
      "5997/5997 [==============================] - 26s 4ms/sample - loss: 1.4246 - acc: 0.4912 - val_loss: 1.4435 - val_acc: 0.4893\n",
      "Epoch 8/30\n",
      "5997/5997 [==============================] - 25s 4ms/sample - loss: 1.3707 - acc: 0.5158 - val_loss: 1.4167 - val_acc: 0.5047\n",
      "Epoch 9/30\n",
      "5997/5997 [==============================] - 27s 4ms/sample - loss: 1.3493 - acc: 0.5186 - val_loss: 1.4094 - val_acc: 0.5153\n",
      "Epoch 10/30\n",
      "5997/5997 [==============================] - 27s 4ms/sample - loss: 1.3010 - acc: 0.5354 - val_loss: 1.3764 - val_acc: 0.5200\n",
      "Epoch 11/30\n",
      "5997/5997 [==============================] - 26s 4ms/sample - loss: 1.2693 - acc: 0.5476 - val_loss: 1.3670 - val_acc: 0.5213\n",
      "Epoch 12/30\n",
      "5997/5997 [==============================] - 25s 4ms/sample - loss: 1.2538 - acc: 0.5598 - val_loss: 1.3545 - val_acc: 0.5307\n",
      "Epoch 13/30\n",
      "5997/5997 [==============================] - 25s 4ms/sample - loss: 1.2226 - acc: 0.5740 - val_loss: 1.3403 - val_acc: 0.5220\n",
      "Epoch 14/30\n",
      "5997/5997 [==============================] - 26s 4ms/sample - loss: 1.2142 - acc: 0.5743 - val_loss: 1.3299 - val_acc: 0.5373\n",
      "Epoch 15/30\n",
      "5997/5997 [==============================] - 27s 5ms/sample - loss: 1.1791 - acc: 0.5861 - val_loss: 1.3142 - val_acc: 0.5407\n",
      "Epoch 16/30\n",
      "5997/5997 [==============================] - 30s 5ms/sample - loss: 1.1551 - acc: 0.6006 - val_loss: 1.3108 - val_acc: 0.5453\n",
      "Epoch 17/30\n",
      "5997/5997 [==============================] - 26s 4ms/sample - loss: 1.1357 - acc: 0.6015 - val_loss: 1.3118 - val_acc: 0.5400\n",
      "Epoch 18/30\n",
      "5997/5997 [==============================] - 26s 4ms/sample - loss: 1.1242 - acc: 0.6091 - val_loss: 1.2793 - val_acc: 0.5507\n",
      "Epoch 19/30\n",
      "5997/5997 [==============================] - 25s 4ms/sample - loss: 1.1055 - acc: 0.6161 - val_loss: 1.2762 - val_acc: 0.5553\n",
      "Epoch 20/30\n",
      "5997/5997 [==============================] - 25s 4ms/sample - loss: 1.0877 - acc: 0.6233 - val_loss: 1.2713 - val_acc: 0.5640\n",
      "Epoch 21/30\n",
      "5997/5997 [==============================] - 26s 4ms/sample - loss: 1.0660 - acc: 0.6320 - val_loss: 1.2797 - val_acc: 0.5613\n",
      "Epoch 22/30\n",
      "5997/5997 [==============================] - 26s 4ms/sample - loss: 1.0477 - acc: 0.6408 - val_loss: 1.2645 - val_acc: 0.5707\n",
      "Epoch 23/30\n",
      "5997/5997 [==============================] - 26s 4ms/sample - loss: 1.0308 - acc: 0.6493 - val_loss: 1.2554 - val_acc: 0.5793\n",
      "Epoch 24/30\n",
      "5997/5997 [==============================] - 27s 5ms/sample - loss: 1.0137 - acc: 0.6503 - val_loss: 1.2679 - val_acc: 0.5747\n",
      "Epoch 25/30\n",
      "5997/5997 [==============================] - 31s 5ms/sample - loss: 0.9946 - acc: 0.6545 - val_loss: 1.2628 - val_acc: 0.5833\n",
      "Epoch 26/30\n",
      "5997/5997 [==============================] - 32s 5ms/sample - loss: 0.9968 - acc: 0.6602 - val_loss: 1.2377 - val_acc: 0.5753\n",
      "Epoch 27/30\n",
      "5997/5997 [==============================] - 32s 5ms/sample - loss: 0.9833 - acc: 0.6662 - val_loss: 1.2469 - val_acc: 0.5827\n",
      "Epoch 28/30\n",
      "5997/5997 [==============================] - 32s 5ms/sample - loss: 0.9721 - acc: 0.6633 - val_loss: 1.2384 - val_acc: 0.5753\n",
      "Epoch 29/30\n",
      "5997/5997 [==============================] - 35s 6ms/sample - loss: 0.9487 - acc: 0.6752 - val_loss: 1.2338 - val_acc: 0.5893\n",
      "Epoch 30/30\n",
      "5997/5997 [==============================] - 34s 6ms/sample - loss: 0.9341 - acc: 0.6835 - val_loss: 1.2434 - val_acc: 0.5900\n"
     ]
    }
   ],
   "source": [
    "if __name__ == \"__main__\":\n",
    "\n",
    "    # get train, validation, test splits\n",
    "    X_train, X_validation, X_test, y_train, y_validation, y_test = prepare_datasets(0.25, 0.2)\n",
    "\n",
    "    # create network\n",
    "    input_shape = (X_train.shape[1], X_train.shape[2]) # 130, 13\n",
    "    model = build_model(input_shape)\n",
    "\n",
    "    # compile model\n",
    "    optimiser = keras.optimizers.Adam(learning_rate=0.0001)\n",
    "    model.compile(optimizer=optimiser,\n",
    "                  loss='sparse_categorical_crossentropy',\n",
    "                  metrics=['acc'])\n",
    "\n",
    "    model.summary()\n",
    "\n",
    "    # train model\n",
    "    history = model.fit(X_train, y_train, validation_data=(X_validation, y_validation), batch_size=32, epochs=30)\n",
    "\n"
   ]
  },
  {
   "cell_type": "code",
   "execution_count": 7,
   "metadata": {},
   "outputs": [
    {
     "data": {
      "image/png": "[encoded data removed]",
      "text/plain": [
       "<Figure size 432x288 with 2 Axes>"
      ]
     },
     "metadata": {
      "needs_background": "light"
     },
     "output_type": "display_data"
    },
    {
     "name": "stdout",
     "output_type": "stream",
     "text": [
      "2499/2499 - 2s - loss: 1.1947 - acc: 0.5926\n",
      "\n",
      "Test accuracy: 0.59263706\n"
     ]
    }
   ],
   "source": [
    "# plot accuracy/error for training and validation\n",
    "plot_history(history)\n",
    "\n",
    "# evaluate model on test set\n",
    "test_loss, test_acc = model.evaluate(X_test, y_test, verbose=2)\n",
    "print('\\nTest accuracy:', test_acc)"
   ]
  },
  {
   "cell_type": "code",
   "execution_count": null,
   "metadata": {},
   "outputs": [],
   "source": []
  }
 ],
 "metadata": {
  "kernelspec": {
   "display_name": "Python 3",
   "language": "python",
   "name": "python3"
  },
  "language_info": {
   "codemirror_mode": {
    "name": "ipython",
    "version": 3
   },
   "file_extension": ".py",
   "mimetype": "text/x-python",
   "name": "python",
   "nbconvert_exporter": "python",
   "pygments_lexer": "ipython3",
   "version": "3.7.6"
  }
 },
 "nbformat": 4,
 "nbformat_minor": 4
}
