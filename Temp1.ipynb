{
 "cells": [
  {
   "cell_type": "code",
   "execution_count": 7,
   "metadata": {},
   "outputs": [],
   "source": [
    "# feature extractoring and preprocessing data\n",
    "import librosa\n",
    "import pandas as pd\n",
    "import numpy as np\n",
    "import matplotlib.pyplot as plt\n",
    "%matplotlib inline\n",
    "import os\n",
    "from PIL import Image\n",
    "import pathlib\n",
    "import csv\n",
    "\n",
    "# Preprocessing\n",
    "from sklearn.model_selection import train_test_split\n",
    "from sklearn.preprocessing import LabelEncoder, StandardScaler\n",
    "\n",
    "#Keras\n",
    "import keras\n",
    "\n",
    "import warnings\n",
    "warnings.filterwarnings('ignore')"
   ]
  },
  {
   "cell_type": "code",
   "execution_count": 16,
   "metadata": {},
   "outputs": [
    {
     "data": {
      "text/plain": [
       "<Figure size 720x720 with 0 Axes>"
      ]
     },
     "metadata": {},
     "output_type": "display_data"
    }
   ],
   "source": [
    "cmap = plt.get_cmap('inferno')\n",
    "\n",
    "plt.figure(figsize=(10,10))\n",
    "genres = 'blues classical country disco hiphop jazz metal pop reggae rock'.split()\n",
    "for g in genres:\n",
    "    pathlib.Path(f'img_data/{g}').mkdir(parents=True, exist_ok=True)     \n",
    "    for filename in os.listdir(f'./genres/{g}'):\n",
    "        songname = f'./genres/{g}/{filename}'\n",
    "        y, sr = librosa.load(songname, mono=True, duration=5)\n",
    "        plt.specgram(y, NFFT=2048, Fs=2, Fc=0, noverlap=128, cmap=cmap, sides='default', mode='default', scale='dB');\n",
    "        plt.axis('off');\n",
    "        plt.savefig(f'img_data/{g}/{filename[:-3].replace(\".\", \"\")}.png')\n",
    "        plt.clf()"
   ]
  },
  {
   "cell_type": "code",
   "execution_count": 17,
   "metadata": {},
   "outputs": [],
   "source": [
    "header = 'filename chroma_stft rmse spectral_centroid spectral_bandwidth rolloff zero_crossing_rate'\n",
    "for i in range(1, 21):\n",
    "    header += f' mfcc{i}'\n",
    "header += ' label'\n",
    "header = header.split()"
   ]
  },
  {
   "cell_type": "code",
   "execution_count": 23,
   "metadata": {},
   "outputs": [],
   "source": [
    "file = open('data.csv', 'w', newline='')\n",
    "with file:\n",
    "    writer = csv.writer(file)\n",
    "    writer.writerow(header)\n",
    "genres = 'blues classical country disco hiphop jazz metal pop reggae rock'.split()\n",
    "for g in genres:\n",
    "    for filename in os.listdir(f'./genres/{g}'):\n",
    "        songname = f'./genres/{g}/{filename}'\n",
    "        y, sr = librosa.load(songname, mono=True, duration=30)\n",
    "        chroma_stft = librosa.feature.chroma_stft(y=y, sr=sr)\n",
    "        spec_cent = librosa.feature.spectral_centroid(y=y, sr=sr)\n",
    "        spec_bw = librosa.feature.spectral_bandwidth(y=y, sr=sr)\n",
    "        rolloff = librosa.feature.spectral_rolloff(y=y, sr=sr)\n",
    "        zcr = librosa.feature.zero_crossing_rate(y)\n",
    "        mfcc = librosa.feature.mfcc(y=y, sr=sr)\n",
    "        rmse = librosa.feature.rmse(y=y)\n",
    "        to_append = f'{filename} {np.mean(chroma_stft)} {np.mean(rmse)} {np.mean(spec_cent)} {np.mean(spec_bw)} {np.mean(rolloff)} {np.mean(zcr)}'    \n",
    "        for e in mfcc:\n",
    "            to_append += f' {np.mean(e)}'\n",
    "        to_append += f' {g}'\n",
    "        file = open('data.csv', 'a', newline='')\n",
    "        with file:\n",
    "            writer = csv.writer(file)\n",
    "            writer.writerow(to_append.split())"
   ]
  },
  {
   "cell_type": "code",
   "execution_count": 24,
   "metadata": {},
   "outputs": [
    {
     "data": {
      "text/html": [
       "<div>\n",
       "<style scoped>\n",
       "    .dataframe tbody tr th:only-of-type {\n",
       "        vertical-align: middle;\n",
       "    }\n",
       "\n",
       "    .dataframe tbody tr th {\n",
       "        vertical-align: top;\n",
       "    }\n",
       "\n",
       "    .dataframe thead th {\n",
       "        text-align: right;\n",
       "    }\n",
       "</style>\n",
       "<table border=\"1\" class=\"dataframe\">\n",
       "  <thead>\n",
       "    <tr style=\"text-align: right;\">\n",
       "      <th></th>\n",
       "      <th>filename</th>\n",
       "      <th>chroma_stft</th>\n",
       "      <th>rmse</th>\n",
       "      <th>spectral_centroid</th>\n",
       "      <th>spectral_bandwidth</th>\n",
       "      <th>rolloff</th>\n",
       "      <th>zero_crossing_rate</th>\n",
       "      <th>mfcc1</th>\n",
       "      <th>mfcc2</th>\n",
       "      <th>mfcc3</th>\n",
       "      <th>...</th>\n",
       "      <th>mfcc12</th>\n",
       "      <th>mfcc13</th>\n",
       "      <th>mfcc14</th>\n",
       "      <th>mfcc15</th>\n",
       "      <th>mfcc16</th>\n",
       "      <th>mfcc17</th>\n",
       "      <th>mfcc18</th>\n",
       "      <th>mfcc19</th>\n",
       "      <th>mfcc20</th>\n",
       "      <th>label</th>\n",
       "    </tr>\n",
       "  </thead>\n",
       "  <tbody>\n",
       "    <tr>\n",
       "      <th>0</th>\n",
       "      <td>blues.00000.wav</td>\n",
       "      <td>0.349943</td>\n",
       "      <td>0.130225</td>\n",
       "      <td>1784.420446</td>\n",
       "      <td>2002.650192</td>\n",
       "      <td>3806.485316</td>\n",
       "      <td>0.083066</td>\n",
       "      <td>-113.596742</td>\n",
       "      <td>121.557302</td>\n",
       "      <td>-19.158825</td>\n",
       "      <td>...</td>\n",
       "      <td>8.810668</td>\n",
       "      <td>-3.667367</td>\n",
       "      <td>5.751690</td>\n",
       "      <td>-5.162761</td>\n",
       "      <td>0.750947</td>\n",
       "      <td>-1.691937</td>\n",
       "      <td>-0.409954</td>\n",
       "      <td>-2.300208</td>\n",
       "      <td>1.219928</td>\n",
       "      <td>blues</td>\n",
       "    </tr>\n",
       "    <tr>\n",
       "      <th>1</th>\n",
       "      <td>blues.00001.wav</td>\n",
       "      <td>0.340983</td>\n",
       "      <td>0.095918</td>\n",
       "      <td>1529.835316</td>\n",
       "      <td>2038.617579</td>\n",
       "      <td>3548.820207</td>\n",
       "      <td>0.056044</td>\n",
       "      <td>-207.556796</td>\n",
       "      <td>124.006717</td>\n",
       "      <td>8.930562</td>\n",
       "      <td>...</td>\n",
       "      <td>5.376802</td>\n",
       "      <td>-2.239119</td>\n",
       "      <td>4.216963</td>\n",
       "      <td>-6.012273</td>\n",
       "      <td>0.936109</td>\n",
       "      <td>-0.716537</td>\n",
       "      <td>0.293875</td>\n",
       "      <td>-0.287431</td>\n",
       "      <td>0.531573</td>\n",
       "      <td>blues</td>\n",
       "    </tr>\n",
       "    <tr>\n",
       "      <th>2</th>\n",
       "      <td>blues.00002.wav</td>\n",
       "      <td>0.363603</td>\n",
       "      <td>0.175573</td>\n",
       "      <td>1552.481958</td>\n",
       "      <td>1747.165985</td>\n",
       "      <td>3040.514948</td>\n",
       "      <td>0.076301</td>\n",
       "      <td>-90.754394</td>\n",
       "      <td>140.459907</td>\n",
       "      <td>-29.109965</td>\n",
       "      <td>...</td>\n",
       "      <td>5.789265</td>\n",
       "      <td>-8.905224</td>\n",
       "      <td>-1.083720</td>\n",
       "      <td>-9.218359</td>\n",
       "      <td>2.455805</td>\n",
       "      <td>-7.726901</td>\n",
       "      <td>-1.815724</td>\n",
       "      <td>-3.433434</td>\n",
       "      <td>-2.226821</td>\n",
       "      <td>blues</td>\n",
       "    </tr>\n",
       "    <tr>\n",
       "      <th>3</th>\n",
       "      <td>blues.00003.wav</td>\n",
       "      <td>0.404779</td>\n",
       "      <td>0.141191</td>\n",
       "      <td>1070.119953</td>\n",
       "      <td>1596.333948</td>\n",
       "      <td>2185.028454</td>\n",
       "      <td>0.033309</td>\n",
       "      <td>-199.431144</td>\n",
       "      <td>150.099218</td>\n",
       "      <td>5.647594</td>\n",
       "      <td>...</td>\n",
       "      <td>6.087676</td>\n",
       "      <td>-2.476420</td>\n",
       "      <td>-1.073890</td>\n",
       "      <td>-2.874777</td>\n",
       "      <td>0.780976</td>\n",
       "      <td>-3.316932</td>\n",
       "      <td>0.637981</td>\n",
       "      <td>-0.619690</td>\n",
       "      <td>-3.408233</td>\n",
       "      <td>blues</td>\n",
       "    </tr>\n",
       "    <tr>\n",
       "      <th>4</th>\n",
       "      <td>blues.00004.wav</td>\n",
       "      <td>0.308590</td>\n",
       "      <td>0.091563</td>\n",
       "      <td>1835.494603</td>\n",
       "      <td>1748.362448</td>\n",
       "      <td>3580.945013</td>\n",
       "      <td>0.101500</td>\n",
       "      <td>-160.266031</td>\n",
       "      <td>126.198800</td>\n",
       "      <td>-35.605448</td>\n",
       "      <td>...</td>\n",
       "      <td>-2.806385</td>\n",
       "      <td>-6.934122</td>\n",
       "      <td>-7.558619</td>\n",
       "      <td>-9.173552</td>\n",
       "      <td>-4.512166</td>\n",
       "      <td>-5.453538</td>\n",
       "      <td>-0.924162</td>\n",
       "      <td>-4.409333</td>\n",
       "      <td>-11.703781</td>\n",
       "      <td>blues</td>\n",
       "    </tr>\n",
       "  </tbody>\n",
       "</table>\n",
       "<p>5 rows × 28 columns</p>\n",
       "</div>"
      ],
      "text/plain": [
       "          filename  chroma_stft      rmse  spectral_centroid  \\\n",
       "0  blues.00000.wav     0.349943  0.130225        1784.420446   \n",
       "1  blues.00001.wav     0.340983  0.095918        1529.835316   \n",
       "2  blues.00002.wav     0.363603  0.175573        1552.481958   \n",
       "3  blues.00003.wav     0.404779  0.141191        1070.119953   \n",
       "4  blues.00004.wav     0.308590  0.091563        1835.494603   \n",
       "\n",
       "   spectral_bandwidth      rolloff  zero_crossing_rate       mfcc1  \\\n",
       "0         2002.650192  3806.485316            0.083066 -113.596742   \n",
       "1         2038.617579  3548.820207            0.056044 -207.556796   \n",
       "2         1747.165985  3040.514948            0.076301  -90.754394   \n",
       "3         1596.333948  2185.028454            0.033309 -199.431144   \n",
       "4         1748.362448  3580.945013            0.101500 -160.266031   \n",
       "\n",
       "        mfcc2      mfcc3  ...    mfcc12    mfcc13    mfcc14    mfcc15  \\\n",
       "0  121.557302 -19.158825  ...  8.810668 -3.667367  5.751690 -5.162761   \n",
       "1  124.006717   8.930562  ...  5.376802 -2.239119  4.216963 -6.012273   \n",
       "2  140.459907 -29.109965  ...  5.789265 -8.905224 -1.083720 -9.218359   \n",
       "3  150.099218   5.647594  ...  6.087676 -2.476420 -1.073890 -2.874777   \n",
       "4  126.198800 -35.605448  ... -2.806385 -6.934122 -7.558619 -9.173552   \n",
       "\n",
       "     mfcc16    mfcc17    mfcc18    mfcc19     mfcc20  label  \n",
       "0  0.750947 -1.691937 -0.409954 -2.300208   1.219928  blues  \n",
       "1  0.936109 -0.716537  0.293875 -0.287431   0.531573  blues  \n",
       "2  2.455805 -7.726901 -1.815724 -3.433434  -2.226821  blues  \n",
       "3  0.780976 -3.316932  0.637981 -0.619690  -3.408233  blues  \n",
       "4 -4.512166 -5.453538 -0.924162 -4.409333 -11.703781  blues  \n",
       "\n",
       "[5 rows x 28 columns]"
      ]
     },
     "execution_count": 24,
     "metadata": {},
     "output_type": "execute_result"
    }
   ],
   "source": [
    "data = pd.read_csv('data.csv')\n",
    "data.head()"
   ]
  },
  {
   "cell_type": "code",
   "execution_count": 25,
   "metadata": {},
   "outputs": [
    {
     "data": {
      "text/plain": [
       "(1000, 28)"
      ]
     },
     "execution_count": 25,
     "metadata": {},
     "output_type": "execute_result"
    }
   ],
   "source": [
    "data.shape"
   ]
  },
  {
   "cell_type": "code",
   "execution_count": null,
   "metadata": {
    "scrolled": true
   },
   "outputs": [],
   "source": [
    "# Dropping unneccesary columns\n",
    "data = data.drop(['filename'],axis=1)"
   ]
  },
  {
   "cell_type": "code",
   "execution_count": 29,
   "metadata": {},
   "outputs": [],
   "source": [
    "genre_list = data.iloc[:, -1]\n",
    "encoder = LabelEncoder()\n",
    "y = encoder.fit_transform(genre_list)"
   ]
  },
  {
   "cell_type": "code",
   "execution_count": 30,
   "metadata": {},
   "outputs": [],
   "source": [
    "scaler = StandardScaler()\n",
    "X = scaler.fit_transform(np.array(data.iloc[:, :-1], dtype = float))"
   ]
  },
  {
   "cell_type": "code",
   "execution_count": 31,
   "metadata": {},
   "outputs": [],
   "source": [
    "X_train, X_test, y_train, y_test = train_test_split(X, y, test_size=0.2)"
   ]
  },
  {
   "cell_type": "code",
   "execution_count": 32,
   "metadata": {},
   "outputs": [
    {
     "data": {
      "text/plain": [
       "800"
      ]
     },
     "execution_count": 32,
     "metadata": {},
     "output_type": "execute_result"
    }
   ],
   "source": [
    "len(y_train)"
   ]
  },
  {
   "cell_type": "code",
   "execution_count": 33,
   "metadata": {},
   "outputs": [
    {
     "data": {
      "text/plain": [
       "200"
      ]
     },
     "execution_count": 33,
     "metadata": {},
     "output_type": "execute_result"
    }
   ],
   "source": [
    "len(y_test)"
   ]
  },
  {
   "cell_type": "code",
   "execution_count": 34,
   "metadata": {},
   "outputs": [
    {
     "data": {
      "text/plain": [
       "array([ 0.90770886, -0.55713824,  0.16154446,  0.17497222,  0.0691735 ,\n",
       "       -0.23507776, -0.30927937, -0.68747203,  0.29312386,  0.99494904,\n",
       "        1.39083038,  0.85546805,  1.04964341, -0.13980327,  1.64838774,\n",
       "        0.26160362,  0.39081103, -0.05275488,  1.16004245, -1.02554198,\n",
       "        0.95840235, -0.30805897, -0.5194726 , -1.80144987,  0.28500226,\n",
       "       -1.39825034])"
      ]
     },
     "execution_count": 34,
     "metadata": {},
     "output_type": "execute_result"
    }
   ],
   "source": [
    "X_train[10]"
   ]
  },
  {
   "cell_type": "code",
   "execution_count": 35,
   "metadata": {},
   "outputs": [],
   "source": [
    "from keras import models\n",
    "from keras import layers\n",
    "\n",
    "model = models.Sequential()\n",
    "model.add(layers.Dense(256, activation='relu', input_shape=(X_train.shape[1],)))\n",
    "\n",
    "model.add(layers.Dense(128, activation='relu'))\n",
    "\n",
    "model.add(layers.Dense(64, activation='relu'))\n",
    "\n",
    "model.add(layers.Dense(10, activation='softmax'))"
   ]
  },
  {
   "cell_type": "code",
   "execution_count": 36,
   "metadata": {},
   "outputs": [],
   "source": [
    "model.compile(optimizer='adam',\n",
    "              loss='sparse_categorical_crossentropy',\n",
    "              metrics=['accuracy'])"
   ]
  },
  {
   "cell_type": "code",
   "execution_count": 37,
   "metadata": {},
   "outputs": [
    {
     "name": "stdout",
     "output_type": "stream",
     "text": [
      "WARNING:tensorflow:From C:\\Users\\VKJ\\anaconda3\\lib\\site-packages\\keras\\backend\\tensorflow_backend.py:422: The name tf.global_variables is deprecated. Please use tf.compat.v1.global_variables instead.\n",
      "\n",
      "Epoch 1/20\n",
      "800/800 [==============================] - 1s 2ms/step - loss: 2.2188 - accuracy: 0.2087\n",
      "Epoch 2/20\n",
      "800/800 [==============================] - 0s 31us/step - loss: 1.9104 - accuracy: 0.3325\n",
      "Epoch 3/20\n",
      "800/800 [==============================] - 0s 25us/step - loss: 1.6440 - accuracy: 0.4250\n",
      "Epoch 4/20\n",
      "800/800 [==============================] - 0s 44us/step - loss: 1.4293 - accuracy: 0.5063\n",
      "Epoch 5/20\n",
      "800/800 [==============================] - 0s 37us/step - loss: 1.2738 - accuracy: 0.5650\n",
      "Epoch 6/20\n",
      "800/800 [==============================] - 0s 13us/step - loss: 1.1579 - accuracy: 0.6087\n",
      "Epoch 7/20\n",
      "800/800 [==============================] - 0s 25us/step - loss: 1.0855 - accuracy: 0.6438\n",
      "Epoch 8/20\n",
      "800/800 [==============================] - 0s 25us/step - loss: 1.0057 - accuracy: 0.6637\n",
      "Epoch 9/20\n",
      "800/800 [==============================] - 0s 37us/step - loss: 0.9593 - accuracy: 0.6750\n",
      "Epoch 10/20\n",
      "800/800 [==============================] - 0s 25us/step - loss: 0.9103 - accuracy: 0.7138\n",
      "Epoch 11/20\n",
      "800/800 [==============================] - 0s 25us/step - loss: 0.8587 - accuracy: 0.7237\n",
      "Epoch 12/20\n",
      "800/800 [==============================] - 0s 25us/step - loss: 0.8078 - accuracy: 0.7487\n",
      "Epoch 13/20\n",
      "800/800 [==============================] - 0s 25us/step - loss: 0.7769 - accuracy: 0.7563\n",
      "Epoch 14/20\n",
      "800/800 [==============================] - 0s 25us/step - loss: 0.7346 - accuracy: 0.7650\n",
      "Epoch 15/20\n",
      "800/800 [==============================] - 0s 25us/step - loss: 0.6931 - accuracy: 0.7937\n",
      "Epoch 16/20\n",
      "800/800 [==============================] - 0s 25us/step - loss: 0.6663 - accuracy: 0.7950\n",
      "Epoch 17/20\n",
      "800/800 [==============================] - 0s 32us/step - loss: 0.6470 - accuracy: 0.7962\n",
      "Epoch 18/20\n",
      "800/800 [==============================] - 0s 31us/step - loss: 0.6213 - accuracy: 0.8000\n",
      "Epoch 19/20\n",
      "800/800 [==============================] - 0s 25us/step - loss: 0.5822 - accuracy: 0.8225\n",
      "Epoch 20/20\n",
      "800/800 [==============================] - 0s 25us/step - loss: 0.5619 - accuracy: 0.8175\n"
     ]
    }
   ],
   "source": [
    "history = model.fit(X_train,\n",
    "                    y_train,\n",
    "                    epochs=20,\n",
    "                    batch_size=128)"
   ]
  },
  {
   "cell_type": "code",
   "execution_count": 38,
   "metadata": {},
   "outputs": [
    {
     "name": "stdout",
     "output_type": "stream",
     "text": [
      "200/200 [==============================] - 0s 351us/step\n"
     ]
    }
   ],
   "source": [
    "test_loss, test_acc = model.evaluate(X_test,y_test)"
   ]
  },
  {
   "cell_type": "code",
   "execution_count": 39,
   "metadata": {},
   "outputs": [
    {
     "name": "stdout",
     "output_type": "stream",
     "text": [
      "test_acc:  0.6000000238418579\n"
     ]
    }
   ],
   "source": [
    "print('test_acc: ',test_acc)"
   ]
  },
  {
   "cell_type": "code",
   "execution_count": 40,
   "metadata": {},
   "outputs": [],
   "source": [
    "x_val = X_train[:200]\n",
    "partial_x_train = X_train[200:]\n",
    "\n",
    "y_val = y_train[:200]\n",
    "partial_y_train = y_train[200:]"
   ]
  },
  {
   "cell_type": "code",
   "execution_count": 41,
   "metadata": {},
   "outputs": [
    {
     "name": "stdout",
     "output_type": "stream",
     "text": [
      "Train on 600 samples, validate on 200 samples\n",
      "Epoch 1/30\n",
      "600/600 [==============================] - 0s 450us/step - loss: 2.2967 - accuracy: 0.1217 - val_loss: 2.1453 - val_accuracy: 0.3600\n",
      "Epoch 2/30\n",
      "600/600 [==============================] - 0s 42us/step - loss: 2.1177 - accuracy: 0.3967 - val_loss: 2.0190 - val_accuracy: 0.4350\n",
      "Epoch 3/30\n",
      "600/600 [==============================] - 0s 50us/step - loss: 1.9733 - accuracy: 0.4283 - val_loss: 1.8981 - val_accuracy: 0.4250\n",
      "Epoch 4/30\n",
      "600/600 [==============================] - 0s 49us/step - loss: 1.8294 - accuracy: 0.4500 - val_loss: 1.7889 - val_accuracy: 0.4300\n",
      "Epoch 5/30\n",
      "600/600 [==============================] - 0s 51us/step - loss: 1.6887 - accuracy: 0.4583 - val_loss: 1.6859 - val_accuracy: 0.4850\n",
      "Epoch 6/30\n",
      "600/600 [==============================] - 0s 49us/step - loss: 1.5539 - accuracy: 0.5133 - val_loss: 1.5824 - val_accuracy: 0.5450\n",
      "Epoch 7/30\n",
      "600/600 [==============================] - 0s 52us/step - loss: 1.4306 - accuracy: 0.5750 - val_loss: 1.4788 - val_accuracy: 0.5350\n",
      "Epoch 8/30\n",
      "600/600 [==============================] - 0s 46us/step - loss: 1.3210 - accuracy: 0.5900 - val_loss: 1.4028 - val_accuracy: 0.5150\n",
      "Epoch 9/30\n",
      "600/600 [==============================] - ETA: 0s - loss: 1.2642 - accuracy: 0.58 - 0s 32us/step - loss: 1.2435 - accuracy: 0.5917 - val_loss: 1.3358 - val_accuracy: 0.4950\n",
      "Epoch 10/30\n",
      "600/600 [==============================] - 0s 41us/step - loss: 1.1601 - accuracy: 0.6050 - val_loss: 1.2826 - val_accuracy: 0.5550\n",
      "Epoch 11/30\n",
      "600/600 [==============================] - 0s 42us/step - loss: 1.0800 - accuracy: 0.6667 - val_loss: 1.2727 - val_accuracy: 0.5650\n",
      "Epoch 12/30\n",
      "600/600 [==============================] - 0s 50us/step - loss: 1.0381 - accuracy: 0.6750 - val_loss: 1.2413 - val_accuracy: 0.5750\n",
      "Epoch 13/30\n",
      "600/600 [==============================] - 0s 50us/step - loss: 0.9750 - accuracy: 0.6867 - val_loss: 1.2240 - val_accuracy: 0.5800\n",
      "Epoch 14/30\n",
      "600/600 [==============================] - 0s 50us/step - loss: 0.9470 - accuracy: 0.6850 - val_loss: 1.1997 - val_accuracy: 0.5950\n",
      "Epoch 15/30\n",
      "600/600 [==============================] - 0s 58us/step - loss: 0.9057 - accuracy: 0.6967 - val_loss: 1.1694 - val_accuracy: 0.6300\n",
      "Epoch 16/30\n",
      "600/600 [==============================] - 0s 50us/step - loss: 0.8423 - accuracy: 0.7317 - val_loss: 1.1521 - val_accuracy: 0.6300\n",
      "Epoch 17/30\n",
      "600/600 [==============================] - 0s 50us/step - loss: 0.8075 - accuracy: 0.7483 - val_loss: 1.1222 - val_accuracy: 0.6550\n",
      "Epoch 18/30\n",
      "600/600 [==============================] - 0s 66us/step - loss: 0.7705 - accuracy: 0.7633 - val_loss: 1.0915 - val_accuracy: 0.6700\n",
      "Epoch 19/30\n",
      "600/600 [==============================] - 0s 50us/step - loss: 0.7287 - accuracy: 0.7700 - val_loss: 1.1065 - val_accuracy: 0.6050\n",
      "Epoch 20/30\n",
      "600/600 [==============================] - 0s 50us/step - loss: 0.6977 - accuracy: 0.7600 - val_loss: 1.1359 - val_accuracy: 0.5850\n",
      "Epoch 21/30\n",
      "600/600 [==============================] - 0s 67us/step - loss: 0.6616 - accuracy: 0.7883 - val_loss: 1.1380 - val_accuracy: 0.6400\n",
      "Epoch 22/30\n",
      "600/600 [==============================] - 0s 58us/step - loss: 0.6297 - accuracy: 0.8017 - val_loss: 1.1322 - val_accuracy: 0.6450\n",
      "Epoch 23/30\n",
      "600/600 [==============================] - 0s 58us/step - loss: 0.6097 - accuracy: 0.7950 - val_loss: 1.1182 - val_accuracy: 0.6350\n",
      "Epoch 24/30\n",
      "600/600 [==============================] - 0s 67us/step - loss: 0.5775 - accuracy: 0.8100 - val_loss: 1.1134 - val_accuracy: 0.6400\n",
      "Epoch 25/30\n",
      "600/600 [==============================] - 0s 50us/step - loss: 0.5461 - accuracy: 0.8100 - val_loss: 1.1199 - val_accuracy: 0.6350\n",
      "Epoch 26/30\n",
      "600/600 [==============================] - 0s 50us/step - loss: 0.5378 - accuracy: 0.8200 - val_loss: 1.0780 - val_accuracy: 0.6700\n",
      "Epoch 27/30\n",
      "600/600 [==============================] - 0s 50us/step - loss: 0.5060 - accuracy: 0.8417 - val_loss: 1.0972 - val_accuracy: 0.6350\n",
      "Epoch 28/30\n",
      "600/600 [==============================] - 0s 41us/step - loss: 0.4849 - accuracy: 0.8617 - val_loss: 1.1677 - val_accuracy: 0.6450\n",
      "Epoch 29/30\n",
      "600/600 [==============================] - 0s 50us/step - loss: 0.4809 - accuracy: 0.8600 - val_loss: 1.1625 - val_accuracy: 0.6250\n",
      "Epoch 30/30\n",
      "600/600 [==============================] - 0s 58us/step - loss: 0.4521 - accuracy: 0.8617 - val_loss: 1.1252 - val_accuracy: 0.6650\n",
      "200/200 [==============================] - 0s 50us/step\n"
     ]
    }
   ],
   "source": [
    "model = models.Sequential()\n",
    "model.add(layers.Dense(512, activation='relu', input_shape=(X_train.shape[1],)))\n",
    "model.add(layers.Dense(256, activation='relu'))\n",
    "model.add(layers.Dense(128, activation='relu'))\n",
    "model.add(layers.Dense(64, activation='relu'))\n",
    "model.add(layers.Dense(10, activation='softmax'))\n",
    "\n",
    "model.compile(optimizer='adam',\n",
    "              loss='sparse_categorical_crossentropy',\n",
    "              metrics=['accuracy'])\n",
    "\n",
    "model.fit(partial_x_train,\n",
    "          partial_y_train,\n",
    "          epochs=30,\n",
    "          batch_size=512,\n",
    "          validation_data=(x_val, y_val))\n",
    "results = model.evaluate(X_test, y_test)"
   ]
  },
  {
   "cell_type": "code",
   "execution_count": 42,
   "metadata": {},
   "outputs": [
    {
     "data": {
      "text/plain": [
       "[1.2052455997467042, 0.625]"
      ]
     },
     "execution_count": 42,
     "metadata": {},
     "output_type": "execute_result"
    }
   ],
   "source": [
    "results"
   ]
  },
  {
   "cell_type": "code",
   "execution_count": 43,
   "metadata": {},
   "outputs": [],
   "source": [
    "predictions = model.predict(X_test)"
   ]
  },
  {
   "cell_type": "code",
   "execution_count": 44,
   "metadata": {},
   "outputs": [
    {
     "data": {
      "text/plain": [
       "(10,)"
      ]
     },
     "execution_count": 44,
     "metadata": {},
     "output_type": "execute_result"
    }
   ],
   "source": [
    "predictions[0].shape"
   ]
  },
  {
   "cell_type": "code",
   "execution_count": 45,
   "metadata": {},
   "outputs": [
    {
     "data": {
      "text/plain": [
       "0.99999994"
      ]
     },
     "execution_count": 45,
     "metadata": {},
     "output_type": "execute_result"
    }
   ],
   "source": [
    "np.sum(predictions[0])"
   ]
  },
  {
   "cell_type": "code",
   "execution_count": 46,
   "metadata": {},
   "outputs": [
    {
     "data": {
      "text/plain": [
       "1"
      ]
     },
     "execution_count": 46,
     "metadata": {},
     "output_type": "execute_result"
    }
   ],
   "source": [
    "np.argmax(predictions[0])"
   ]
  },
  {
   "cell_type": "code",
   "execution_count": null,
   "metadata": {},
   "outputs": [],
   "source": []
  }
 ],
 "metadata": {
  "kernelspec": {
   "display_name": "Python 3",
   "language": "python",
   "name": "python3"
  },
  "language_info": {
   "codemirror_mode": {
    "name": "ipython",
    "version": 3
   },
   "file_extension": ".py",
   "mimetype": "text/x-python",
   "name": "python",
   "nbconvert_exporter": "python",
   "pygments_lexer": "ipython3",
   "version": "3.7.6"
  }
 },
 "nbformat": 4,
 "nbformat_minor": 4
}
